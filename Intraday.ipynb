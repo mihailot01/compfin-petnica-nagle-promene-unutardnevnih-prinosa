{
 "cells": [
  {
   "cell_type": "code",
   "execution_count": null,
   "metadata": {},
   "outputs": [],
   "source": [
    "#load table from SPXintraday excel file from Downloads\n",
    "\n",
    "import pandas as pd\n",
    "import os\n",
    "import datetime\n",
    "import numpy as np\n",
    "import matplotlib.pyplot as pyplot\n",
    "\n",
    "#load data\n",
    "df = pd.read_excel('SPXintraday.xlsx')\n",
    "\n",
    "#calculate returns\n",
    "df['Return'] = df['Last'].pct_change()\n",
    "df = df.drop(df[df['BarNo'] == 1.0].index)    \n",
    "df = df.drop(df[df['BarNo'] > 79].index)\n",
    "\n",
    "# plot return as y and BarNo as x\n",
    "pyplot.plot(df['BarNo'], df['Return'], 'o')\n",
    "\n",
    "average_return = df['Return'].mean()\n",
    "df['Return'] = df['Return'] - average_return\n",
    "\n",
    "# plot deseasoned return as y and BarNo as x\n",
    "pyplot.plot(df['BarNo'], df['Return'], 'o')"
   ]
  },
  {
   "cell_type": "code",
   "execution_count": null,
   "metadata": {},
   "outputs": [],
   "source": [
    "from sklearn.preprocessing import PolynomialFeatures\n",
    "from sklearn.linear_model import LinearRegression"
   ]
  },
  {
   "cell_type": "code",
   "execution_count": null,
   "metadata": {},
   "outputs": [],
   "source": [
    "print(len(df[df['Return']!=0]))\n",
    "print(len(df[df['Return']==0]))\n",
    "\n",
    "print(df[df['Return']==0])"
   ]
  },
  {
   "cell_type": "code",
   "execution_count": null,
   "metadata": {},
   "outputs": [],
   "source": [
    "x = df['BarNo'].to_numpy()\n",
    "y = np.log(np.square(df['Return'].to_numpy()))\n",
    "\n",
    "poly = PolynomialFeatures(degree=2)\n",
    "poly_features = poly.fit_transform(x.reshape(-1, 1))\n",
    "\n",
    "poly_reg_model = LinearRegression()\n",
    "poly_reg_model.fit(poly_features, y)\n",
    "\n",
    "poly_features_with_zeros = poly.fit_transform(df['BarNo'].to_numpy().reshape(-1, 1))\n",
    "y_predicted = np.sqrt(np.exp(poly_reg_model.predict(poly_features_with_zeros)))\n",
    "x = df['BarNo'].to_numpy()\n",
    "\n",
    "print(poly_reg_model.coef_)\n",
    "pyplot.plot(x, y_predicted, 'o')"
   ]
  },
  {
   "cell_type": "code",
   "execution_count": null,
   "metadata": {},
   "outputs": [],
   "source": [
    "error = (df['Return'] - y_predicted).to_numpy(dtype='float64')\n",
    "df['Error'] = error\n",
    "\n",
    "pyplot.plot(range(len(x)), error)"
   ]
  },
  {
   "cell_type": "code",
   "execution_count": null,
   "metadata": {},
   "outputs": [],
   "source": [
    "from scipy.optimize import minimize\n",
    "\n",
    "def con(t):\n",
    "    return 1 - t[1] - t[2]\n",
    "\n",
    "def con2(t):\n",
    "    return t[0]\n",
    "\n",
    "def con3(t):\n",
    "    return t[2]\n",
    "\n",
    "def con4(t):\n",
    "    return t[1]\n",
    "\n",
    "cons = [{'type':'ineq', 'fun': con},\n",
    "        {'type':'ineq', 'fun': con2},\n",
    "        {'type':'ineq', 'fun': con3},\n",
    "        {'type':'ineq', 'fun': con4}]\n",
    "\n",
    "def neg_log_likelihood(params):\n",
    "    # print(params)\n",
    "    var = np.zeros(len(error),dtype='float64')\n",
    "    var[0] = error.var()\n",
    "    sum = 0\n",
    "    for i in range(1,len(error)):\n",
    "        var[i] = abs(params[0] + params[1]*(error[i-1]**2) + params[2]*var[i-1])\n",
    "\n",
    "        sum += np.log(var[i]) + (error[i]**2)/var[i]\n",
    "\n",
    "    return sum\n",
    "\n",
    "params = [7e-9,0.11,0.88]\n",
    "res = minimize(neg_log_likelihood, params, constraints=cons, method='COBYQA')\n",
    "print(res)\n",
    "print(res.x)\n"
   ]
  },
  {
   "cell_type": "code",
   "execution_count": null,
   "metadata": {},
   "outputs": [],
   "source": [
    "params = res.x\n",
    "# params = [7e-9,0.11,0.88]\n",
    "# params = [ 8.335e-07,  4.975e-02, -2.310e-01]\n",
    "# params = [7.80399236e-07, 5.06476993e-02, 2.71058634e-01]\n",
    "# params = [2.46250142e-07, 5.14189152e-02, 2.67593138e-01]\n",
    "\n",
    "var = [error.var()]\n",
    "for i in range(1,len(error)):\n",
    "    var.append(abs(params[0] + params[1]*error[i-1]**2 + params[2]*var[i-1]))\n",
    "    # if(var[i] <= 0):\n",
    "    #     var[i] = 0.00000001\n",
    "    # if(var[i] == np.inf):\n",
    "    #     var[i] = 1e20\n",
    "    \n",
    "pyplot.plot(range(len(error)), var)\n"
   ]
  },
  {
   "cell_type": "code",
   "execution_count": null,
   "metadata": {},
   "outputs": [],
   "source": [
    "df['Var'] = np.sqrt(var)\n",
    "filtered = df[abs(df['Error']) > 2 * df['Var']]\n",
    "# print(filtered['BarNo'].value_counßts().sort_index())\n",
    "bars = np.zeros(14)\n",
    "total = np.zeros(14)\n",
    "for row in filtered.iterrows():\n",
    "    bars[int(row[1]['BarNo'])//6] += 1\n",
    "for row in df.iterrows():\n",
    "    total[int(row[1]['BarNo'])//6] += 1    \n",
    "x = [9*60+30*(i+1) for i in range(13)]\n",
    "x = [f\"{t//60}:{t%60//10}0\" for t in x]\n",
    "pyplot.figure(figsize=(10,6))\n",
    "bars = bars/total\n",
    "pyplot.bar(x,bars[:13])"
   ]
  },
  {
   "cell_type": "code",
   "execution_count": null,
   "metadata": {},
   "outputs": [],
   "source": [
    "\n",
    "pyplot.plot(range(len(var))[:237], (y_predicted*var)[:237])\n",
    "pyplot.axvline(x=80, color='r')\n",
    "pyplot.axvline(x=160, color='r')"
   ]
  }
 ],
 "metadata": {
  "kernelspec": {
   "display_name": "Python 3",
   "language": "python",
   "name": "python3"
  },
  "language_info": {
   "codemirror_mode": {
    "name": "ipython",
    "version": 3
   },
   "file_extension": ".py",
   "mimetype": "text/x-python",
   "name": "python",
   "nbconvert_exporter": "python",
   "pygments_lexer": "ipython3",
   "version": "3.12.4"
  }
 },
 "nbformat": 4,
 "nbformat_minor": 2
}
